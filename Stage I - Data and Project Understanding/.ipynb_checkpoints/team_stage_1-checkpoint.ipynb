{
 "cells": [
  {
   "cell_type": "markdown",
   "id": "1d1fe524-35b5-4327-9283-ab75bb224667",
   "metadata": {
    "jp-MarkdownHeadingCollapsed": true
   },
   "source": [
    "## COVID-19 Dataset (Cases Confirmed)​\n",
    "| Name            | Description                                             | Data Type | Possible Values              |   |\n",
    "|-----------------|---------------------------------------------------------|-----------|------------------------------|---|\n",
    "| countyFIPS      | Federal Information Processing Standards for the county | Integer   | 1001 - 56045                 |   |\n",
    "| County Name     | Name of the county in the state                         | String    | \"[name] County\"              |   |\n",
    "| State           | State abbreviation                                      | String    | \"GA\", \"NC\" for the 50 states |   |\n",
    "| StateFIPS       | Federal Information Processing Standards for the state  | Integer   | 1 – 56                       |   |\n",
    "| Date            | Date in mm-dd-yyyy                                      | Date      | 1/22/2020 - 7/23/2023        |   |\n",
    "| Confirmed Cases | Number of confirmed cases                               | Integer   | 0 - 3534088                  |   |"
   ]
  },
  {
   "cell_type": "markdown",
   "id": "d01615f7-01d9-49ce-83ca-a6c28cb47363",
   "metadata": {},
   "source": [
    "## COVID-19 Dataset (County Populations)​\n",
    "| Name        | Description                                             | Data Type | Possible Values                            |\n",
    "|-------------|---------------------------------------------------------|-----------|--------------------------------------------|\n",
    "| countyFIPS  | Federal Information Processing Standards for the county | Integer   | 1001 – 56045 or 0                          |\n",
    "| County Name | Name of the county                                      | String    | \"[name] County\" or \"Statewide Unallocated\" |\n",
    "| State       | State abbreviation                                      | String    | \"GA\", \"NC\" for the 50 states               |\n",
    "| Population  | Number of people in county                              | Integer   | 0-10039107                                 |"
   ]
  },
  {
   "cell_type": "markdown",
   "id": "8777f67e-aa16-41fc-91b4-6a6ae5961b9a",
   "metadata": {},
   "source": [
    "## COVID-19 Dataset (Deaths)​\n",
    "| Name        | Description                                             | Data Type | Possible Values              |\n",
    "|-------------|---------------------------------------------------------|-----------|------------------------------|\n",
    "| countyFIPS  | Federal Information Processing Standards for the county | Integer   | 1001 - 56045                 |\n",
    "| County Name | Name of the county in the state                         | String    | \"[name] County\"              |\n",
    "| State       | State abbreviation                                      | String    | \"GA\", \"NC\" for the 50 states |\n",
    "| StateFIPS   | Federal Information Processing Standards for the state  | Integer   | 1 - 56                       |\n",
    "| Date        | Date in mm-dd-yyyy                                      | Date      | 1/22/2020 - 7/23/2023        |\n",
    "| Deaths      | Number of deaths                                        | Integer   | 0 - 52102                    |"
   ]
  },
  {
   "cell_type": "code",
   "execution_count": null,
   "id": "3009ae0e-c82e-4088-abf0-99ee7e0f519f",
   "metadata": {},
   "outputs": [],
   "source": [
    "import pandas as pd\n",
    "df_county = pd.read_csv('covid_county_population_usafacts.csv')\n",
    "df_deaths = pd.read_csv('covid_deaths_usafacts.csv')\n",
    "df_confirmed = pd.read_csv('covid_confirmed_usafacts.csv')"
   ]
  },
  {
   "cell_type": "code",
   "execution_count": null,
   "id": "be18f839-658b-49c2-a9ae-ddc7643c7471",
   "metadata": {},
   "outputs": [],
   "source": [
    "df_super = pd.merge(df_confirmed, df_deaths, on = ['countyFIPS', 'County Name', \n",
    "                                                   'State', 'StateFIPS'])"
   ]
  },
  {
   "cell_type": "markdown",
   "id": "889ddee5-3805-4306-86bb-f6c505029068",
   "metadata": {},
   "source": [
    "Merging Covid confirmed cases with Covid deaths data on the columns of countyFIPS, County Name, State, StateFIPS"
   ]
  },
  {
   "cell_type": "code",
   "execution_count": null,
   "id": "f0cdda61-5792-44ad-a601-a683189da53f",
   "metadata": {},
   "outputs": [],
   "source": [
    "df_super = pd.merge(df_county, df_super, on = ['countyFIPS', 'State'])"
   ]
  },
  {
   "cell_type": "markdown",
   "id": "e5354295-8928-4f9c-9afb-9935028605d3",
   "metadata": {},
   "source": [
    "Merging the Covid cases plus deaths data with county population database"
   ]
  },
  {
   "cell_type": "code",
   "execution_count": null,
   "id": "5dafdc95-63c7-4f58-9ff2-7669216a2c75",
   "metadata": {},
   "outputs": [],
   "source": [
    "df_super.to_csv('covid_super.csv', index=False)"
   ]
  },
  {
   "cell_type": "markdown",
   "id": "a523639f-41e1-42f8-86a4-e35762a5490f",
   "metadata": {},
   "source": [
    "Save the merged super dataset to csv file, without an index column"
   ]
  },
  {
   "cell_type": "code",
   "execution_count": null,
   "id": "07bf094f-ad2e-4d85-ae1a-019086b690f6",
   "metadata": {},
   "outputs": [],
   "source": [
    "print(pd.read_csv('covid_super.csv')) # Output the result"
   ]
  }
 ],
 "metadata": {
  "kernelspec": {
   "display_name": "Python 3 (ipykernel)",
   "language": "python",
   "name": "python3"
  },
  "language_info": {
   "codemirror_mode": {
    "name": "ipython",
    "version": 3
   },
   "file_extension": ".py",
   "mimetype": "text/x-python",
   "name": "python",
   "nbconvert_exporter": "python",
   "pygments_lexer": "ipython3",
   "version": "3.12.4"
  }
 },
 "nbformat": 4,
 "nbformat_minor": 5
}
