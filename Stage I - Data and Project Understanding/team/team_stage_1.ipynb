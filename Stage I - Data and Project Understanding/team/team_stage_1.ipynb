{
 "cells": [
  {
   "cell_type": "markdown",
   "id": "1d1fe524-35b5-4327-9283-ab75bb224667",
   "metadata": {
    "jp-MarkdownHeadingCollapsed": true
   },
   "source": [
    "## COVID-19 Dataset (Cases Confirmed)​\n",
    "| Name            | Description                                             | Data Type | Possible Values              |   |\n",
    "|-----------------|---------------------------------------------------------|-----------|------------------------------|---|\n",
    "| countyFIPS      | Federal Information Processing Standards for the county | Integer   | 1001 - 56045                 |   |\n",
    "| County Name     | Name of the county in the state                         | String    | \"[name] County\"              |   |\n",
    "| State           | State abbreviation                                      | String    | \"GA\", \"NC\" for the 50 states |   |\n",
    "| StateFIPS       | Federal Information Processing Standards for the state  | Integer   | 1 – 56                       |   |\n",
    "| Date            | Date in mm-dd-yyyy                                      | Date      | 1/22/2020 - 7/23/2023        |   |\n",
    "| Confirmed Cases | Number of confirmed cases                               | Integer   | 0 - 3534088                  |   |"
   ]
  },
  {
   "cell_type": "markdown",
   "id": "d01615f7-01d9-49ce-83ca-a6c28cb47363",
   "metadata": {},
   "source": [
    "## COVID-19 Dataset (County Populations)​\n",
    "| Name        | Description                                             | Data Type | Possible Values                            |\n",
    "|-------------|---------------------------------------------------------|-----------|--------------------------------------------|\n",
    "| countyFIPS  | Federal Information Processing Standards for the county | Integer   | 1001 – 56045 or 0                          |\n",
    "| County Name | Name of the county                                      | String    | \"[name] County\" or \"Statewide Unallocated\" |\n",
    "| State       | State abbreviation                                      | String    | \"GA\", \"NC\" for the 50 states               |\n",
    "| Population  | Number of people in county                              | Integer   | 0-10039107                                 |"
   ]
  },
  {
   "cell_type": "markdown",
   "id": "8777f67e-aa16-41fc-91b4-6a6ae5961b9a",
   "metadata": {},
   "source": [
    "## COVID-19 Dataset (Deaths)​\n",
    "| Name        | Description                                             | Data Type | Possible Values              |\n",
    "|-------------|---------------------------------------------------------|-----------|------------------------------|\n",
    "| countyFIPS  | Federal Information Processing Standards for the county | Integer   | 1001 - 56045                 |\n",
    "| County Name | Name of the county in the state                         | String    | \"[name] County\"              |\n",
    "| State       | State abbreviation                                      | String    | \"GA\", \"NC\" for the 50 states |\n",
    "| StateFIPS   | Federal Information Processing Standards for the state  | Integer   | 1 - 56                       |\n",
    "| Date        | Date in mm-dd-yyyy                                      | Date      | 1/22/2020 - 7/23/2023        |\n",
    "| Deaths      | Number of deaths                                        | Integer   | 0 - 52102                    |"
   ]
  },
  {
   "cell_type": "code",
   "execution_count": 3,
   "id": "3009ae0e-c82e-4088-abf0-99ee7e0f519f",
   "metadata": {},
   "outputs": [],
   "source": [
    "import pandas as pd\n",
    "df_county = pd.read_csv('covid_county_population_usafacts.csv')\n",
    "df_deaths = pd.read_csv('covid_deaths_usafacts.csv')\n",
    "df_confirmed = pd.read_csv('covid_confirmed_usafacts.csv')"
   ]
  },
  {
   "cell_type": "code",
   "execution_count": 7,
   "id": "be18f839-658b-49c2-a9ae-ddc7643c7471",
   "metadata": {},
   "outputs": [],
   "source": [
    "df_super = pd.merge(df_confirmed, df_deaths, on = ['countyFIPS', 'County Name', \n",
    "                                                   'State', 'StateFIPS'])"
   ]
  },
  {
   "cell_type": "markdown",
   "id": "889ddee5-3805-4306-86bb-f6c505029068",
   "metadata": {},
   "source": [
    "Merging Covid confirmed cases with Covid deaths data on the columns of countyFIPS, County Name, State, StateFIPS"
   ]
  },
  {
   "cell_type": "code",
   "execution_count": 9,
   "id": "f0cdda61-5792-44ad-a601-a683189da53f",
   "metadata": {},
   "outputs": [],
   "source": [
    "df_super = pd.merge(df_county, df_super, on = ['countyFIPS', 'State'])"
   ]
  },
  {
   "cell_type": "markdown",
   "id": "e5354295-8928-4f9c-9afb-9935028605d3",
   "metadata": {},
   "source": [
    "Merging the Covid cases plus deaths data with county population database"
   ]
  },
  {
   "cell_type": "code",
   "execution_count": 11,
   "id": "5dafdc95-63c7-4f58-9ff2-7669216a2c75",
   "metadata": {},
   "outputs": [],
   "source": [
    "df_super.to_csv('covid_super.csv', index=False)"
   ]
  },
  {
   "cell_type": "markdown",
   "id": "a523639f-41e1-42f8-86a4-e35762a5490f",
   "metadata": {},
   "source": [
    "Save the merged super dataset to csv file, without an index column"
   ]
  },
  {
   "cell_type": "code",
   "execution_count": 13,
   "id": "07bf094f-ad2e-4d85-ae1a-019086b690f6",
   "metadata": {},
   "outputs": [
    {
     "name": "stdout",
     "output_type": "stream",
     "text": [
      "      countyFIPS          County Name_x State  population  \\\n",
      "0              0  Statewide Unallocated    AL           0   \n",
      "1           1001         Autauga County    AL       55869   \n",
      "2           1003         Baldwin County    AL      223234   \n",
      "3           1005         Barbour County    AL       24686   \n",
      "4           1007            Bibb County    AL       22394   \n",
      "...          ...                    ...   ...         ...   \n",
      "3188       56037      Sweetwater County    WY       42343   \n",
      "3189       56039           Teton County    WY       23464   \n",
      "3190       56041           Uinta County    WY       20226   \n",
      "3191       56043        Washakie County    WY        7805   \n",
      "3192       56045          Weston County    WY        6927   \n",
      "\n",
      "              County Name_y  StateFIPS  2020-01-22_x  2020-01-23_x  \\\n",
      "0     Statewide Unallocated          1             0             0   \n",
      "1           Autauga County           1             0             0   \n",
      "2           Baldwin County           1             0             0   \n",
      "3           Barbour County           1             0             0   \n",
      "4              Bibb County           1             0             0   \n",
      "...                     ...        ...           ...           ...   \n",
      "3188     Sweetwater County          56             0             0   \n",
      "3189          Teton County          56             0             0   \n",
      "3190          Uinta County          56             0             0   \n",
      "3191       Washakie County          56             0             0   \n",
      "3192         Weston County          56             0             0   \n",
      "\n",
      "      2020-01-24_x  2020-01-25_x  ...  2023-07-14_y  2023-07-15_y  \\\n",
      "0                0             0  ...             0             0   \n",
      "1                0             0  ...           235           235   \n",
      "2                0             0  ...           731           731   \n",
      "3                0             0  ...           104           104   \n",
      "4                0             0  ...           111           111   \n",
      "...            ...           ...  ...           ...           ...   \n",
      "3188             0             0  ...           142           142   \n",
      "3189             0             0  ...            16            16   \n",
      "3190             0             0  ...            43            43   \n",
      "3191             0             0  ...            51            51   \n",
      "3192             0             0  ...            24            24   \n",
      "\n",
      "      2023-07-16_y  2023-07-17_y  2023-07-18_y  2023-07-19_y  2023-07-20_y  \\\n",
      "0                0             0             0             0             0   \n",
      "1              235           235           235           235           235   \n",
      "2              731           731           731           731           731   \n",
      "3              104           104           104           104           104   \n",
      "4              111           111           111           111           111   \n",
      "...            ...           ...           ...           ...           ...   \n",
      "3188           142           142           142           142           142   \n",
      "3189            16            16            16            16            16   \n",
      "3190            43            43            43            43            43   \n",
      "3191            51            51            51            51            51   \n",
      "3192            24            24            24            24            24   \n",
      "\n",
      "      2023-07-21_y  2023-07-22_y  2023-07-23_y  \n",
      "0                0             0             0  \n",
      "1              235           235           235  \n",
      "2              731           731           731  \n",
      "3              104           104           104  \n",
      "4              111           111           111  \n",
      "...            ...           ...           ...  \n",
      "3188           142           142           142  \n",
      "3189            16            16            16  \n",
      "3190            43            43            43  \n",
      "3191            51            51            51  \n",
      "3192            24            24            24  \n",
      "\n",
      "[3193 rows x 2536 columns]\n"
     ]
    }
   ],
   "source": [
    "print(pd.read_csv('covid_super.csv')) # Output the result"
   ]
  }
 ],
 "metadata": {
  "kernelspec": {
   "display_name": "Python 3 (ipykernel)",
   "language": "python",
   "name": "python3"
  },
  "language_info": {
   "codemirror_mode": {
    "name": "ipython",
    "version": 3
   },
   "file_extension": ".py",
   "mimetype": "text/x-python",
   "name": "python",
   "nbconvert_exporter": "python",
   "pygments_lexer": "ipython3",
   "version": "3.12.4"
  }
 },
 "nbformat": 4,
 "nbformat_minor": 5
}
