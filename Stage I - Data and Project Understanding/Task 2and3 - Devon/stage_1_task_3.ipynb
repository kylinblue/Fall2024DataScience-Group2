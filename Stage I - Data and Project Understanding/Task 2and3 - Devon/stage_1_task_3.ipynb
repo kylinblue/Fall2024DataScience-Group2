{
 "cells": [
  {
   "cell_type": "markdown",
   "id": "d5dea60c-8a27-4eb2-aff6-9be87e3acc0a",
   "metadata": {},
   "source": [
    "# Task 3 for Stage 1 by Devon Moskowitz (Individual)"
   ]
  },
  {
   "cell_type": "markdown",
   "id": "97576e65-6c64-4e96-b928-b2e8e1710cf2",
   "metadata": {},
   "source": [
    "## Part 1 \n"
   ]
  },
  {
   "cell_type": "markdown",
   "id": "90e45c0e-1915-4bea-ab86-bc78ce888b17",
   "metadata": {},
   "source": [
    "I am choosing the state of Georgia to analyze. That is my home state so I want to see how the data trend is. "
   ]
  },
  {
   "cell_type": "code",
   "execution_count": 6,
   "id": "814e9a54-3377-4fed-993d-56689f4f2c43",
   "metadata": {},
   "outputs": [],
   "source": [
    "import pandas as pd\n",
    "import numpy as np"
   ]
  },
  {
   "cell_type": "markdown",
   "id": "c4a9fd2b-19b4-4a68-8d53-b5a3470ead42",
   "metadata": {},
   "source": [
    "I used the confirmed cases csv file to get the total amount of cases. Here is the code to get the cases."
   ]
  },
  {
   "cell_type": "code",
   "execution_count": 9,
   "id": "88747e17-88c6-4575-8a0d-cb6c903201ae",
   "metadata": {},
   "outputs": [],
   "source": [
    "df_confirmed = pd.read_csv('covid_confirmed_usafacts.csv')\n",
    "\n",
    "georgia = df_confirmed.loc[df_confirmed[\"State\"] == \"GA\"]"
   ]
  },
  {
   "cell_type": "markdown",
   "id": "a24fc6f6-8fdb-49eb-8bc9-367ad13666ad",
   "metadata": {},
   "source": [
    "To filter to the last seven days I used an array to get the names of the columns, then looped through each day and added up all of the numbers in the column. "
   ]
  },
  {
   "cell_type": "code",
   "execution_count": 16,
   "id": "b2bcb59c-68e4-4835-aaab-13d8cc0becb8",
   "metadata": {},
   "outputs": [
    {
     "name": "stdout",
     "output_type": "stream",
     "text": [
      "Day 1: 2241312 Cases\n",
      "Day 2: 2241312 Cases\n",
      "Day 3: 2241312 Cases\n",
      "Day 4: 2241312 Cases\n",
      "Day 5: 2241312 Cases\n",
      "Day 6: 2243886 Cases\n",
      "Day 7: 2243886 Cases\n"
     ]
    }
   ],
   "source": [
    "days = [\"2022-10-07\", \"2022-10-08\", \"2022-10-09\", \"2022-10-10\", \"2022-10-11\", \"2022-10-12\", \"2022-10-13\"]\n",
    "index = []\n",
    "for day in days:\n",
    "    result = 0\n",
    "    for num in georgia[day]:\n",
    "        result += int(num)\n",
    "    index.append(result)\n",
    "\n",
    "\n",
    "for ind in range(7):\n",
    "    print(\"Day \" + str(ind + 1) + \": \" + str(index[ind]) + \" Cases\")"
   ]
  },
  {
   "cell_type": "markdown",
   "id": "275035ce-4c42-41fa-8455-75a5c06aaf25",
   "metadata": {},
   "source": [
    "This is showing that the number of cases are the same for the first 5 days. Which is astounding, which the data seems off because that is such a coincidence. The number of cases are very **STABLE** then. "
   ]
  },
  {
   "cell_type": "markdown",
   "id": "a3d5e456-4582-4cd7-b5f6-decdc328e21c",
   "metadata": {},
   "source": [
    "# Part 2"
   ]
  },
  {
   "cell_type": "markdown",
   "id": "b4816eb8-1a0e-430e-a161-70640c37e42b",
   "metadata": {},
   "source": [
    "Here is the enrichment data that I did. I did the Presidential Election of 2020. Joe Biden vs Donald Trump"
   ]
  },
  {
   "cell_type": "code",
   "execution_count": 22,
   "id": "eb83fa04-08b4-48c3-bc71-3eccb03f6fef",
   "metadata": {},
   "outputs": [
    {
     "data": {
      "text/html": [
       "<div>\n",
       "<style scoped>\n",
       "    .dataframe tbody tr th:only-of-type {\n",
       "        vertical-align: middle;\n",
       "    }\n",
       "\n",
       "    .dataframe tbody tr th {\n",
       "        vertical-align: top;\n",
       "    }\n",
       "\n",
       "    .dataframe thead th {\n",
       "        text-align: right;\n",
       "    }\n",
       "</style>\n",
       "<table border=\"1\" class=\"dataframe\">\n",
       "  <thead>\n",
       "    <tr style=\"text-align: right;\">\n",
       "      <th></th>\n",
       "      <th>state</th>\n",
       "      <th>county</th>\n",
       "      <th>candidate</th>\n",
       "      <th>party</th>\n",
       "      <th>total_votes</th>\n",
       "      <th>won</th>\n",
       "    </tr>\n",
       "  </thead>\n",
       "  <tbody>\n",
       "    <tr>\n",
       "      <th>0</th>\n",
       "      <td>Delaware</td>\n",
       "      <td>Kent County</td>\n",
       "      <td>Joe Biden</td>\n",
       "      <td>DEM</td>\n",
       "      <td>44552</td>\n",
       "      <td>True</td>\n",
       "    </tr>\n",
       "    <tr>\n",
       "      <th>1</th>\n",
       "      <td>Delaware</td>\n",
       "      <td>Kent County</td>\n",
       "      <td>Donald Trump</td>\n",
       "      <td>REP</td>\n",
       "      <td>41009</td>\n",
       "      <td>False</td>\n",
       "    </tr>\n",
       "    <tr>\n",
       "      <th>2</th>\n",
       "      <td>Delaware</td>\n",
       "      <td>Kent County</td>\n",
       "      <td>Jo Jorgensen</td>\n",
       "      <td>LIB</td>\n",
       "      <td>1044</td>\n",
       "      <td>False</td>\n",
       "    </tr>\n",
       "    <tr>\n",
       "      <th>3</th>\n",
       "      <td>Delaware</td>\n",
       "      <td>Kent County</td>\n",
       "      <td>Howie Hawkins</td>\n",
       "      <td>GRN</td>\n",
       "      <td>420</td>\n",
       "      <td>False</td>\n",
       "    </tr>\n",
       "    <tr>\n",
       "      <th>4</th>\n",
       "      <td>Delaware</td>\n",
       "      <td>New Castle County</td>\n",
       "      <td>Joe Biden</td>\n",
       "      <td>DEM</td>\n",
       "      <td>195034</td>\n",
       "      <td>True</td>\n",
       "    </tr>\n",
       "  </tbody>\n",
       "</table>\n",
       "</div>"
      ],
      "text/plain": [
       "      state             county      candidate party  total_votes    won\n",
       "0  Delaware        Kent County      Joe Biden   DEM        44552   True\n",
       "1  Delaware        Kent County   Donald Trump   REP        41009  False\n",
       "2  Delaware        Kent County   Jo Jorgensen   LIB         1044  False\n",
       "3  Delaware        Kent County  Howie Hawkins   GRN          420  False\n",
       "4  Delaware  New Castle County      Joe Biden   DEM       195034   True"
      ]
     },
     "execution_count": 22,
     "metadata": {},
     "output_type": "execute_result"
    }
   ],
   "source": [
    "presidential_county = pd.read_csv(\"president_county_candidate.csv\")\n",
    "presidential_county.head()"
   ]
  },
  {
   "cell_type": "code",
   "execution_count": null,
   "id": "60454e72-7c0c-4e20-b65d-bbbdfe50cfab",
   "metadata": {},
   "outputs": [],
   "source": [
    "Here is the merged COVID-19 data with the super class and the enrichment data. "
   ]
  },
  {
   "cell_type": "code",
   "execution_count": 26,
   "id": "f4f993e8-eefd-41b5-89ca-01ae8e3ffa83",
   "metadata": {},
   "outputs": [
    {
     "data": {
      "text/html": [
       "<div>\n",
       "<style scoped>\n",
       "    .dataframe tbody tr th:only-of-type {\n",
       "        vertical-align: middle;\n",
       "    }\n",
       "\n",
       "    .dataframe tbody tr th {\n",
       "        vertical-align: top;\n",
       "    }\n",
       "\n",
       "    .dataframe thead th {\n",
       "        text-align: right;\n",
       "    }\n",
       "</style>\n",
       "<table border=\"1\" class=\"dataframe\">\n",
       "  <thead>\n",
       "    <tr style=\"text-align: right;\">\n",
       "      <th></th>\n",
       "      <th>state</th>\n",
       "      <th>county</th>\n",
       "      <th>candidate</th>\n",
       "      <th>party</th>\n",
       "      <th>total_votes</th>\n",
       "      <th>won</th>\n",
       "      <th>countyFIPS</th>\n",
       "      <th>County Name_x</th>\n",
       "      <th>State</th>\n",
       "      <th>population</th>\n",
       "      <th>...</th>\n",
       "      <th>2023-07-15_y</th>\n",
       "      <th>2023-07-16_y</th>\n",
       "      <th>2023-07-17_y</th>\n",
       "      <th>2023-07-18_y</th>\n",
       "      <th>2023-07-19_y</th>\n",
       "      <th>2023-07-20_y</th>\n",
       "      <th>2023-07-21_y</th>\n",
       "      <th>2023-07-22_y</th>\n",
       "      <th>2023-07-23_y</th>\n",
       "      <th>County Name</th>\n",
       "    </tr>\n",
       "  </thead>\n",
       "  <tbody>\n",
       "    <tr>\n",
       "      <th>0</th>\n",
       "      <td>Delaware</td>\n",
       "      <td>Kent County</td>\n",
       "      <td>Joe Biden</td>\n",
       "      <td>DEM</td>\n",
       "      <td>44552</td>\n",
       "      <td>True</td>\n",
       "      <td>10001</td>\n",
       "      <td>Kent County</td>\n",
       "      <td>DE</td>\n",
       "      <td>180786</td>\n",
       "      <td>...</td>\n",
       "      <td>747</td>\n",
       "      <td>747</td>\n",
       "      <td>747</td>\n",
       "      <td>747</td>\n",
       "      <td>747</td>\n",
       "      <td>747</td>\n",
       "      <td>747</td>\n",
       "      <td>747</td>\n",
       "      <td>747</td>\n",
       "      <td>Kent County</td>\n",
       "    </tr>\n",
       "    <tr>\n",
       "      <th>1</th>\n",
       "      <td>Delaware</td>\n",
       "      <td>Kent County</td>\n",
       "      <td>Joe Biden</td>\n",
       "      <td>DEM</td>\n",
       "      <td>44552</td>\n",
       "      <td>True</td>\n",
       "      <td>24029</td>\n",
       "      <td>Kent County</td>\n",
       "      <td>MD</td>\n",
       "      <td>19422</td>\n",
       "      <td>...</td>\n",
       "      <td>73</td>\n",
       "      <td>73</td>\n",
       "      <td>73</td>\n",
       "      <td>73</td>\n",
       "      <td>73</td>\n",
       "      <td>73</td>\n",
       "      <td>73</td>\n",
       "      <td>73</td>\n",
       "      <td>73</td>\n",
       "      <td>Kent County</td>\n",
       "    </tr>\n",
       "    <tr>\n",
       "      <th>2</th>\n",
       "      <td>Delaware</td>\n",
       "      <td>Kent County</td>\n",
       "      <td>Joe Biden</td>\n",
       "      <td>DEM</td>\n",
       "      <td>44552</td>\n",
       "      <td>True</td>\n",
       "      <td>26081</td>\n",
       "      <td>Kent County</td>\n",
       "      <td>MI</td>\n",
       "      <td>656955</td>\n",
       "      <td>...</td>\n",
       "      <td>1929</td>\n",
       "      <td>1929</td>\n",
       "      <td>1929</td>\n",
       "      <td>1930</td>\n",
       "      <td>1930</td>\n",
       "      <td>1930</td>\n",
       "      <td>1930</td>\n",
       "      <td>1930</td>\n",
       "      <td>1930</td>\n",
       "      <td>Kent County</td>\n",
       "    </tr>\n",
       "    <tr>\n",
       "      <th>3</th>\n",
       "      <td>Delaware</td>\n",
       "      <td>Kent County</td>\n",
       "      <td>Joe Biden</td>\n",
       "      <td>DEM</td>\n",
       "      <td>44552</td>\n",
       "      <td>True</td>\n",
       "      <td>44003</td>\n",
       "      <td>Kent County</td>\n",
       "      <td>RI</td>\n",
       "      <td>164292</td>\n",
       "      <td>...</td>\n",
       "      <td>608</td>\n",
       "      <td>608</td>\n",
       "      <td>608</td>\n",
       "      <td>608</td>\n",
       "      <td>608</td>\n",
       "      <td>608</td>\n",
       "      <td>608</td>\n",
       "      <td>608</td>\n",
       "      <td>608</td>\n",
       "      <td>Kent County</td>\n",
       "    </tr>\n",
       "    <tr>\n",
       "      <th>4</th>\n",
       "      <td>Delaware</td>\n",
       "      <td>Kent County</td>\n",
       "      <td>Joe Biden</td>\n",
       "      <td>DEM</td>\n",
       "      <td>44552</td>\n",
       "      <td>True</td>\n",
       "      <td>48263</td>\n",
       "      <td>Kent County</td>\n",
       "      <td>TX</td>\n",
       "      <td>762</td>\n",
       "      <td>...</td>\n",
       "      <td>4</td>\n",
       "      <td>4</td>\n",
       "      <td>4</td>\n",
       "      <td>4</td>\n",
       "      <td>4</td>\n",
       "      <td>4</td>\n",
       "      <td>4</td>\n",
       "      <td>4</td>\n",
       "      <td>4</td>\n",
       "      <td>Kent County</td>\n",
       "    </tr>\n",
       "  </tbody>\n",
       "</table>\n",
       "<p>5 rows × 2543 columns</p>\n",
       "</div>"
      ],
      "text/plain": [
       "      state       county  candidate party  total_votes   won  countyFIPS  \\\n",
       "0  Delaware  Kent County  Joe Biden   DEM        44552  True       10001   \n",
       "1  Delaware  Kent County  Joe Biden   DEM        44552  True       24029   \n",
       "2  Delaware  Kent County  Joe Biden   DEM        44552  True       26081   \n",
       "3  Delaware  Kent County  Joe Biden   DEM        44552  True       44003   \n",
       "4  Delaware  Kent County  Joe Biden   DEM        44552  True       48263   \n",
       "\n",
       "  County Name_x State  population  ... 2023-07-15_y  2023-07-16_y  \\\n",
       "0   Kent County    DE      180786  ...          747           747   \n",
       "1   Kent County    MD       19422  ...           73            73   \n",
       "2   Kent County    MI      656955  ...         1929          1929   \n",
       "3   Kent County    RI      164292  ...          608           608   \n",
       "4   Kent County    TX         762  ...            4             4   \n",
       "\n",
       "   2023-07-17_y  2023-07-18_y  2023-07-19_y  2023-07-20_y  2023-07-21_y  \\\n",
       "0           747           747           747           747           747   \n",
       "1            73            73            73            73            73   \n",
       "2          1929          1930          1930          1930          1930   \n",
       "3           608           608           608           608           608   \n",
       "4             4             4             4             4             4   \n",
       "\n",
       "   2023-07-22_y  2023-07-23_y  County Name  \n",
       "0           747           747  Kent County  \n",
       "1            73            73  Kent County  \n",
       "2          1930          1930  Kent County  \n",
       "3           608           608  Kent County  \n",
       "4             4             4  Kent County  \n",
       "\n",
       "[5 rows x 2543 columns]"
      ]
     },
     "execution_count": 26,
     "metadata": {},
     "output_type": "execute_result"
    }
   ],
   "source": [
    "df_county = pd.read_csv('covid_county_population_usafacts.csv')\n",
    "df_deaths = pd.read_csv('covid_deaths_usafacts.csv')\n",
    "df_confirmed = pd.read_csv('covid_confirmed_usafacts.csv')\n",
    "df_super = pd.merge(df_confirmed, df_deaths, on = ['countyFIPS', 'County Name','State', 'StateFIPS'])\n",
    "df_super = pd.merge(df_county, df_super, on = ['countyFIPS', 'State'])\n",
    "president = pd.read_csv(\"president_county_candidate.csv\")\n",
    "df_super['County Name'] = df_super['County Name_x'].str.strip()\n",
    "newcsv = pd.merge(president, df_super, left_on=\"county\", right_on=\"County Name_x\")\n",
    "\n",
    "newcsv.head()"
   ]
  },
  {
   "cell_type": "markdown",
   "id": "50f9e4e3-c0f3-4648-838f-b1933344c585",
   "metadata": {},
   "source": [
    "This is showing the merge of the entire covid-19 dataset and my enrichment data. It shows the similarities between the nominee that won the county and the amount of cases that occured of COVID-19"
   ]
  },
  {
   "cell_type": "code",
   "execution_count": null,
   "id": "ecc0a90e-842a-47f8-856f-7c392afd2c81",
   "metadata": {},
   "outputs": [],
   "source": []
  }
 ],
 "metadata": {
  "kernelspec": {
   "display_name": "Python 3 (ipykernel)",
   "language": "python",
   "name": "python3"
  },
  "language_info": {
   "codemirror_mode": {
    "name": "ipython",
    "version": 3
   },
   "file_extension": ".py",
   "mimetype": "text/x-python",
   "name": "python",
   "nbconvert_exporter": "python",
   "pygments_lexer": "ipython3",
   "version": "3.12.4"
  }
 },
 "nbformat": 4,
 "nbformat_minor": 5
}
