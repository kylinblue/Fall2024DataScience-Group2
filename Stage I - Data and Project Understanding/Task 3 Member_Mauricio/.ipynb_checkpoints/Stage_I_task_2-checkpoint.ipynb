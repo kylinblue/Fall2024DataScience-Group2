{
 "cells": [
  {
   "cell_type": "markdown",
   "id": "ca12901b-c941-4fef-8d23-968dcaa4c98c",
   "metadata": {
    "jp-MarkdownHeadingCollapsed": true
   },
   "source": [
    "## Enrichment Data Set:\n",
    "##### ACS Social, Economic, and Housing -> 2020 Household Income Data set\n",
    "\n",
    "## How can I merge the data with the primary COVID-19 Data Set?\n",
    "##### Because I will be focusing on the state of Florida, the individial \n",
    "##### variable that will map between both data sets is the County Name.\n",
    "##### To do this, I will have to create a dataframe with only Florida data \n",
    "##### from the super dataframe created by merging the confirmed cases, \n",
    "##### deaths, and population data sets."
   ]
  },
  {
   "cell_type": "markdown",
   "id": "8ae796fa-5b83-49e6-9414-a8815bec75b7",
   "metadata": {},
   "source": [
    "## How can enrichment data help my COVID-19 spread analysis?\n",
    "##### The enrichment dataset I selected contains Floridan household\n",
    "##### income data for the year 2020. This data can be used to see\n",
    "##### if there is a difference in how people are impacted by COVID-19 \n",
    "##### based on their household income reporting.\n",
    "#### Hypothesis Question:\n",
    "##### Counties where the percentage of low income households is higher \n",
    "##### are more negatively affected than counties where the percentage\n",
    "##### of low income households is lower."
   ]
  },
  {
   "cell_type": "markdown",
   "id": "35c1661a-bd71-4c2d-a866-0f50a635b36d",
   "metadata": {},
   "source": [
    "| County Name  | Name of the County                                                      | String  | Any County in Florida                                   |\n",
    "|--------------|-------------------------------------------------------------------------|---------|---------------------------------------------------------|\n",
    "| Estimate     | Estimate of Florida<br>households who meet<br>the criteria              | Integer | 10 - 1,453,714                                          |\n",
    "| Total        | Total sample size<br>used for the <br>specified part of <br>the dataset | Integer | 2,315 - 7,931,313                                       |\n",
    "| Income Range | Income range for a<br>household                                         | String  | Less than 10000, <br>10000 to 14999 …<br>200000 or more |"
   ]
  },
  {
   "cell_type": "code",
   "execution_count": null,
   "id": "55a4f3b4-0124-4c58-a732-6da4edc19036",
   "metadata": {},
   "outputs": [],
   "source": []
  }
 ],
 "metadata": {
  "kernelspec": {
   "display_name": "Python 3 (ipykernel)",
   "language": "python",
   "name": "python3"
  },
  "language_info": {
   "codemirror_mode": {
    "name": "ipython",
    "version": 3
   },
   "file_extension": ".py",
   "mimetype": "text/x-python",
   "name": "python",
   "nbconvert_exporter": "python",
   "pygments_lexer": "ipython3",
   "version": "3.12.4"
  }
 },
 "nbformat": 4,
 "nbformat_minor": 5
}
