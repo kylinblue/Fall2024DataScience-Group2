{
 "cells": [
  {
   "cell_type": "code",
   "id": "initial_id",
   "metadata": {
    "collapsed": true,
    "ExecuteTime": {
     "end_time": "2024-09-27T21:03:27.471535Z",
     "start_time": "2024-09-27T21:03:26.903124Z"
    }
   },
   "source": [
    "import pandas as pd\n",
    "import numpy as np\n",
    "import matplotlib.pyplot as plt\n",
    "# import statistics as stat"
   ],
   "outputs": [],
   "execution_count": 1
  },
  {
   "metadata": {
    "ExecuteTime": {
     "end_time": "2024-09-27T21:03:28.294780Z",
     "start_time": "2024-09-27T21:03:28.153344Z"
    }
   },
   "cell_type": "code",
   "source": [
    "df_deaths = pd.read_csv('data/cumulative-deaths-per-100k.csv')\n",
    "df_deaths.info()"
   ],
   "id": "de1ea52e7aefd40b",
   "outputs": [
    {
     "name": "stdout",
     "output_type": "stream",
     "text": [
      "<class 'pandas.core.frame.DataFrame'>\n",
      "RangeIndex: 428419 entries, 0 to 428418\n",
      "Data columns (total 7 columns):\n",
      " #   Column                                                             Non-Null Count   Dtype  \n",
      "---  ------                                                             --------------   -----  \n",
      " 0   Entity                                                             428419 non-null  object \n",
      " 1   Code                                                               402784 non-null  object \n",
      " 2   Day                                                                428419 non-null  object \n",
      " 3   Cumulative excess deaths per 100,000 people (central estimate)     55458 non-null   float64\n",
      " 4   Cumulative excess deaths per 100,000 people (95% CI, lower bound)  55458 non-null   float64\n",
      " 5   Cumulative excess deaths per 100,000 people (95% CI, upper bound)  55458 non-null   float64\n",
      " 6   Total confirmed deaths due to COVID-19 per 100,000 people          427250 non-null  float64\n",
      "dtypes: float64(4), object(3)\n",
      "memory usage: 22.9+ MB\n"
     ]
    }
   ],
   "execution_count": 2
  },
  {
   "metadata": {
    "ExecuteTime": {
     "end_time": "2024-09-27T21:03:29.489227Z",
     "start_time": "2024-09-27T21:03:29.433435Z"
    }
   },
   "cell_type": "code",
   "source": [
    "def country_deaths(country):\n",
    "    return df_deaths.loc[(df_deaths['Entity']==country, df_deaths.columns[:])].loc[(df_deaths['Day']>'2020-05-31') & (df_deaths['Day']<'2021-01-04')]\n",
    "\n",
    "country_deaths('Bangladesh')"
   ],
   "id": "ccaf8032c0343565",
   "outputs": [
    {
     "data": {
      "text/plain": [
       "           Entity Code         Day  \\\n",
       "32509  Bangladesh  BGD  2020-06-01   \n",
       "32510  Bangladesh  BGD  2020-06-08   \n",
       "32511  Bangladesh  BGD  2020-06-15   \n",
       "32512  Bangladesh  BGD  2020-06-22   \n",
       "32513  Bangladesh  BGD  2020-06-29   \n",
       "...           ...  ...         ...   \n",
       "33029  Bangladesh  BGD  2020-12-30   \n",
       "33030  Bangladesh  BGD  2020-12-31   \n",
       "33031  Bangladesh  BGD  2021-01-01   \n",
       "33032  Bangladesh  BGD  2021-01-02   \n",
       "33033  Bangladesh  BGD  2021-01-03   \n",
       "\n",
       "       Cumulative excess deaths per 100,000 people (central estimate)  \\\n",
       "32509                                          11.681056                \n",
       "32510                                          14.343499                \n",
       "32511                                          17.494196                \n",
       "32512                                          20.730524                \n",
       "32513                                          23.950651                \n",
       "...                                                  ...                \n",
       "33029                                                NaN                \n",
       "33030                                                NaN                \n",
       "33031                                                NaN                \n",
       "33032                                                NaN                \n",
       "33033                                                NaN                \n",
       "\n",
       "       Cumulative excess deaths per 100,000 people (95% CI, lower bound)  \\\n",
       "32509                                          -8.701433                   \n",
       "32510                                          -8.287909                   \n",
       "32511                                          -7.659847                   \n",
       "32512                                          -7.095127                   \n",
       "32513                                          -6.195528                   \n",
       "...                                                  ...                   \n",
       "33029                                                NaN                   \n",
       "33030                                                NaN                   \n",
       "33031                                                NaN                   \n",
       "33032                                                NaN                   \n",
       "33033                                                NaN                   \n",
       "\n",
       "       Cumulative excess deaths per 100,000 people (95% CI, upper bound)  \\\n",
       "32509                                          18.713030                   \n",
       "32510                                          22.575808                   \n",
       "32511                                          25.853655                   \n",
       "32512                                          31.735495                   \n",
       "32513                                          36.612522                   \n",
       "...                                                  ...                   \n",
       "33029                                                NaN                   \n",
       "33030                                                NaN                   \n",
       "33031                                                NaN                   \n",
       "33032                                                NaN                   \n",
       "33033                                                NaN                   \n",
       "\n",
       "       Total confirmed deaths due to COVID-19 per 100,000 people  \n",
       "32509                                           0.383741          \n",
       "32510                                           0.524250          \n",
       "32511                                           0.691325          \n",
       "32512                                           0.864304          \n",
       "32513                                           1.026066          \n",
       "...                                                  ...          \n",
       "33029                                           4.399448          \n",
       "33030                                           4.399448          \n",
       "33031                                           4.399448          \n",
       "33032                                           4.399448          \n",
       "33033                                           4.502173          \n",
       "\n",
       "[217 rows x 7 columns]"
      ],
      "text/html": [
       "<div>\n",
       "<style scoped>\n",
       "    .dataframe tbody tr th:only-of-type {\n",
       "        vertical-align: middle;\n",
       "    }\n",
       "\n",
       "    .dataframe tbody tr th {\n",
       "        vertical-align: top;\n",
       "    }\n",
       "\n",
       "    .dataframe thead th {\n",
       "        text-align: right;\n",
       "    }\n",
       "</style>\n",
       "<table border=\"1\" class=\"dataframe\">\n",
       "  <thead>\n",
       "    <tr style=\"text-align: right;\">\n",
       "      <th></th>\n",
       "      <th>Entity</th>\n",
       "      <th>Code</th>\n",
       "      <th>Day</th>\n",
       "      <th>Cumulative excess deaths per 100,000 people (central estimate)</th>\n",
       "      <th>Cumulative excess deaths per 100,000 people (95% CI, lower bound)</th>\n",
       "      <th>Cumulative excess deaths per 100,000 people (95% CI, upper bound)</th>\n",
       "      <th>Total confirmed deaths due to COVID-19 per 100,000 people</th>\n",
       "    </tr>\n",
       "  </thead>\n",
       "  <tbody>\n",
       "    <tr>\n",
       "      <th>32509</th>\n",
       "      <td>Bangladesh</td>\n",
       "      <td>BGD</td>\n",
       "      <td>2020-06-01</td>\n",
       "      <td>11.681056</td>\n",
       "      <td>-8.701433</td>\n",
       "      <td>18.713030</td>\n",
       "      <td>0.383741</td>\n",
       "    </tr>\n",
       "    <tr>\n",
       "      <th>32510</th>\n",
       "      <td>Bangladesh</td>\n",
       "      <td>BGD</td>\n",
       "      <td>2020-06-08</td>\n",
       "      <td>14.343499</td>\n",
       "      <td>-8.287909</td>\n",
       "      <td>22.575808</td>\n",
       "      <td>0.524250</td>\n",
       "    </tr>\n",
       "    <tr>\n",
       "      <th>32511</th>\n",
       "      <td>Bangladesh</td>\n",
       "      <td>BGD</td>\n",
       "      <td>2020-06-15</td>\n",
       "      <td>17.494196</td>\n",
       "      <td>-7.659847</td>\n",
       "      <td>25.853655</td>\n",
       "      <td>0.691325</td>\n",
       "    </tr>\n",
       "    <tr>\n",
       "      <th>32512</th>\n",
       "      <td>Bangladesh</td>\n",
       "      <td>BGD</td>\n",
       "      <td>2020-06-22</td>\n",
       "      <td>20.730524</td>\n",
       "      <td>-7.095127</td>\n",
       "      <td>31.735495</td>\n",
       "      <td>0.864304</td>\n",
       "    </tr>\n",
       "    <tr>\n",
       "      <th>32513</th>\n",
       "      <td>Bangladesh</td>\n",
       "      <td>BGD</td>\n",
       "      <td>2020-06-29</td>\n",
       "      <td>23.950651</td>\n",
       "      <td>-6.195528</td>\n",
       "      <td>36.612522</td>\n",
       "      <td>1.026066</td>\n",
       "    </tr>\n",
       "    <tr>\n",
       "      <th>...</th>\n",
       "      <td>...</td>\n",
       "      <td>...</td>\n",
       "      <td>...</td>\n",
       "      <td>...</td>\n",
       "      <td>...</td>\n",
       "      <td>...</td>\n",
       "      <td>...</td>\n",
       "    </tr>\n",
       "    <tr>\n",
       "      <th>33029</th>\n",
       "      <td>Bangladesh</td>\n",
       "      <td>BGD</td>\n",
       "      <td>2020-12-30</td>\n",
       "      <td>NaN</td>\n",
       "      <td>NaN</td>\n",
       "      <td>NaN</td>\n",
       "      <td>4.399448</td>\n",
       "    </tr>\n",
       "    <tr>\n",
       "      <th>33030</th>\n",
       "      <td>Bangladesh</td>\n",
       "      <td>BGD</td>\n",
       "      <td>2020-12-31</td>\n",
       "      <td>NaN</td>\n",
       "      <td>NaN</td>\n",
       "      <td>NaN</td>\n",
       "      <td>4.399448</td>\n",
       "    </tr>\n",
       "    <tr>\n",
       "      <th>33031</th>\n",
       "      <td>Bangladesh</td>\n",
       "      <td>BGD</td>\n",
       "      <td>2021-01-01</td>\n",
       "      <td>NaN</td>\n",
       "      <td>NaN</td>\n",
       "      <td>NaN</td>\n",
       "      <td>4.399448</td>\n",
       "    </tr>\n",
       "    <tr>\n",
       "      <th>33032</th>\n",
       "      <td>Bangladesh</td>\n",
       "      <td>BGD</td>\n",
       "      <td>2021-01-02</td>\n",
       "      <td>NaN</td>\n",
       "      <td>NaN</td>\n",
       "      <td>NaN</td>\n",
       "      <td>4.399448</td>\n",
       "    </tr>\n",
       "    <tr>\n",
       "      <th>33033</th>\n",
       "      <td>Bangladesh</td>\n",
       "      <td>BGD</td>\n",
       "      <td>2021-01-03</td>\n",
       "      <td>NaN</td>\n",
       "      <td>NaN</td>\n",
       "      <td>NaN</td>\n",
       "      <td>4.502173</td>\n",
       "    </tr>\n",
       "  </tbody>\n",
       "</table>\n",
       "<p>217 rows × 7 columns</p>\n",
       "</div>"
      ]
     },
     "execution_count": 3,
     "metadata": {},
     "output_type": "execute_result"
    }
   ],
   "execution_count": 3
  },
  {
   "metadata": {
    "ExecuteTime": {
     "end_time": "2024-09-27T21:07:14.521300Z",
     "start_time": "2024-09-27T21:07:14.362868Z"
    }
   },
   "cell_type": "code",
   "source": [
    "df = country_deaths('Bangladesh')\n",
    "df.info()\n",
    "x = df.loc[:,'Day'].values\n",
    "x = np.asarray(x, dtype='datetime64[s]')\n",
    "y = np.log10(df.loc[:,df.columns[6]].values)\n",
    "\n",
    "plt.title(\"Total confirmed deaths due to COVID-19 per 100,000 people\\n between Jun 2020 and Jan 2021, normalized\")\n",
    "plt.xlabel(\"Date\")\n",
    "plt.xticks(rotation=45)\n",
    "plt.ylabel(\"per 100,000 people\")\n",
    "plt.plot(x, y)\n",
    "plt.show"
   ],
   "id": "9d7efe191478b876",
   "outputs": [
    {
     "name": "stdout",
     "output_type": "stream",
     "text": [
      "<class 'pandas.core.frame.DataFrame'>\n",
      "Index: 217 entries, 32509 to 33033\n",
      "Data columns (total 7 columns):\n",
      " #   Column                                                             Non-Null Count  Dtype  \n",
      "---  ------                                                             --------------  -----  \n",
      " 0   Entity                                                             217 non-null    object \n",
      " 1   Code                                                               217 non-null    object \n",
      " 2   Day                                                                217 non-null    object \n",
      " 3   Cumulative excess deaths per 100,000 people (central estimate)     31 non-null     float64\n",
      " 4   Cumulative excess deaths per 100,000 people (95% CI, lower bound)  31 non-null     float64\n",
      " 5   Cumulative excess deaths per 100,000 people (95% CI, upper bound)  31 non-null     float64\n",
      " 6   Total confirmed deaths due to COVID-19 per 100,000 people          217 non-null    float64\n",
      "dtypes: float64(4), object(3)\n",
      "memory usage: 13.6+ KB\n"
     ]
    },
    {
     "data": {
      "text/plain": [
       "<function matplotlib.pyplot.show(close=None, block=None)>"
      ]
     },
     "execution_count": 17,
     "metadata": {},
     "output_type": "execute_result"
    },
    {
     "data": {
      "text/plain": [
       "<Figure size 640x480 with 1 Axes>"
      ],
      "image/png": "[encoded data removed]"
     },
     "metadata": {},
     "output_type": "display_data"
    }
   ],
   "execution_count": 17
  }
 ],
 "metadata": {
  "kernelspec": {
   "display_name": "Python 3",
   "language": "python",
   "name": "python3"
  },
  "language_info": {
   "codemirror_mode": {
    "name": "ipython",
    "version": 2
   },
   "file_extension": ".py",
   "mimetype": "text/x-python",
   "name": "python",
   "nbconvert_exporter": "python",
   "pygments_lexer": "ipython2",
   "version": "2.7.6"
  }
 },
 "nbformat": 4,
 "nbformat_minor": 5
}
